{
  "nbformat": 4,
  "nbformat_minor": 0,
  "metadata": {
    "colab": {
      "provenance": []
    },
    "kernelspec": {
      "name": "python3",
      "display_name": "Python 3"
    },
    "language_info": {
      "name": "python"
    }
  },
  "cells": [
    {
      "cell_type": "code",
      "source": [
        "import random\n",
        "import matplotlib.pyplot as plt"
      ],
      "metadata": {
        "id": "8TuJIMSU58EN"
      },
      "execution_count": null,
      "outputs": []
    },
    {
      "cell_type": "code",
      "source": [
        "num_of_players = 7\n",
        "num_spies = 2\n",
        "num_civilians = num_of_players - num_spies\n",
        "rounds = 5\n",
        "num_of_outputs = 10000"
      ],
      "metadata": {
        "id": "axstkLlp6MKo"
      },
      "execution_count": null,
      "outputs": []
    },
    {
      "cell_type": "markdown",
      "source": [
        "# Random Vote Out"
      ],
      "metadata": {
        "id": "Gzl-Rhgx8tcL"
      }
    },
    {
      "cell_type": "code",
      "execution_count": null,
      "metadata": {
        "id": "eHPCGeNP0ixs"
      },
      "outputs": [],
      "source": [
        "def random_strategy(num_of_players, num_spies, rounds):\n",
        "\n",
        "    players = [\"Player \" + str(i + 1) for i in range(num_of_players)]\n",
        "    spies = random.sample(players, num_spies)\n",
        "\n",
        "    spies_wins = 0\n",
        "    civilians_wins = 0\n",
        "    voted_out = []\n",
        "\n",
        "    for round in range(1, rounds + 1):\n",
        "        if round <= 2:\n",
        "            num_players = 3\n",
        "        else:\n",
        "            if round <= 4:\n",
        "                num_players = 4\n",
        "            else:\n",
        "                num_players = 5\n",
        "\n",
        "        if len(players) < num_players:\n",
        "            spies_wins += 1\n",
        "            break\n",
        "\n",
        "        playing_players = random.sample(players, num_players)\n",
        "\n",
        "        submitted_cards = [\n",
        "                \"Picture\" if ((player in spies) and (random.random() < 0.5)) else \"Number\"\n",
        "                for player in playing_players\n",
        "            ]\n",
        "\n",
        "        if \"Picture\" in submitted_cards:\n",
        "            spies_wins += 1\n",
        "            suspect = random.choice(playing_players)\n",
        "            players.remove(suspect)\n",
        "            voted_out.append(suspect)\n",
        "        else:\n",
        "            civilians_wins += 1\n",
        "\n",
        "    return spies_wins > civilians_wins"
      ]
    },
    {
      "cell_type": "code",
      "source": [
        "spies_games_wins_1 = [random_strategy(num_of_players, num_spies, rounds) for _ in range(num_of_outputs)]"
      ],
      "metadata": {
        "id": "GBzQeN880l9l"
      },
      "execution_count": null,
      "outputs": []
    },
    {
      "cell_type": "code",
      "source": [
        "spy_game_wins = spies_games_wins_1.count(True)\n",
        "civil_game_wins = spies_games_wins_1.count(False)\n",
        "\n",
        "total_elements = len(spies_games_wins_1)\n",
        "\n",
        "spy_percentage_1 = (spy_game_wins / total_elements) * 100\n",
        "civil_percentage_1 = (civil_game_wins / total_elements) * 100\n",
        "\n",
        "print(f\"Percentage of SPY wins: {spy_percentage_1:.2f}%\")\n",
        "print(f\"Percentage of Civilian wins: {civil_percentage_1:.2f}%\")"
      ],
      "metadata": {
        "id": "u6WpLOQi0tcV",
        "colab": {
          "base_uri": "https://localhost:8080/"
        },
        "outputId": "6cb48f3a-3614-462b-f821-2e06c1e37854"
      },
      "execution_count": null,
      "outputs": [
        {
          "output_type": "stream",
          "name": "stdout",
          "text": [
            "Percentage of SPY wins: 39.77%\n",
            "Percentage of Civilian wins: 60.23%\n"
          ]
        }
      ]
    },
    {
      "cell_type": "code",
      "source": [
        "result = random_strategy(num_of_players, num_spies, rounds)\n",
        "\n",
        "print(result)"
      ],
      "metadata": {
        "colab": {
          "base_uri": "https://localhost:8080/"
        },
        "id": "qctjy8G_KFAW",
        "outputId": "6783c99d-4ee7-4fef-8acf-1382918f250b"
      },
      "execution_count": null,
      "outputs": [
        {
          "output_type": "stream",
          "name": "stdout",
          "text": [
            "False\n"
          ]
        }
      ]
    },
    {
      "cell_type": "markdown",
      "source": [
        "# Suspecting With History"
      ],
      "metadata": {
        "id": "XwXy0nmI8yXY"
      }
    },
    {
      "cell_type": "code",
      "source": [
        "import random\n",
        "\n",
        "def history_strategy(num_of_players, num_spies, rounds):\n",
        "\n",
        "    players = [\"Player \" + str(i + 1) for i in range(num_of_players)] #iterating over the players\n",
        "    spies = random.sample(players, num_spies)\n",
        "\n",
        "    spies_wins = 0\n",
        "    civilians_wins = 0\n",
        "    voted_out = []\n",
        "    history = []\n",
        "\n",
        "    for round in range(1, rounds + 1):\n",
        "        num_players = 3 if round <= 2 else 4 if round <= 4 else 5 #players in each round\n",
        "\n",
        "        if len(players) < num_players:\n",
        "            spies_wins += 1\n",
        "            break\n",
        "\n",
        "        playing_players = random.sample(players, num_players)\n",
        "\n",
        "        submitted_cards = [\"Picture\" if player in spies and random.random() < 0.5 else \"Number\" for player in playing_players]\n",
        "\n",
        "        history.append(\n",
        "            {\n",
        "                'round': round,\n",
        "                'players': playing_players,\n",
        "                'cards': submitted_cards\n",
        "            }\n",
        "        )\n",
        "\n",
        "        if \"Picture\" in submitted_cards:\n",
        "            spies_wins += 1\n",
        "\n",
        "            if round == 1:\n",
        "                suspect = random.choice(playing_players)\n",
        "                players.remove(suspect)\n",
        "                voted_out.append(suspect)\n",
        "            else:\n",
        "                intersection_of_spywin_rounds = list(set(player for history_round in history if \"Picture\" in history_round['cards'] for player in history_round['players']).intersection(playing_players))\n",
        "\n",
        "                if intersection_of_spywin_rounds:\n",
        "                    suspect = random.choice(intersection_of_spywin_rounds)\n",
        "                    players.remove(suspect)\n",
        "                    voted_out.append(suspect)\n",
        "\n",
        "        else:\n",
        "            civilians_wins += 1\n",
        "\n",
        "    return spies_wins > civilians_wins"
      ],
      "metadata": {
        "id": "NkaDA-O00xYm"
      },
      "execution_count": null,
      "outputs": []
    },
    {
      "cell_type": "code",
      "source": [
        "spies_games_wins_2 = [history_strategy(num_of_players, num_spies, rounds) for _ in range(num_of_outputs)]"
      ],
      "metadata": {
        "id": "0wg8MBB91JB3"
      },
      "execution_count": null,
      "outputs": []
    },
    {
      "cell_type": "code",
      "source": [
        "spy_game_wins = spies_games_wins_2.count(True)\n",
        "civil_game_wins = spies_games_wins_2.count(False)\n",
        "\n",
        "total_elements = len(spies_games_wins_2)\n",
        "\n",
        "spy_percentage_2 = (spy_game_wins / total_elements) * 100\n",
        "civil_percentage_2 = (civil_game_wins / total_elements) * 100\n",
        "\n",
        "print(f\"Percentage of SPY wins: {spy_percentage_2:.2f}%\")\n",
        "print(f\"Percentage of Civilian wins: {civil_percentage_2:.2f}%\")"
      ],
      "metadata": {
        "colab": {
          "base_uri": "https://localhost:8080/"
        },
        "id": "nfcfVaFr1LWZ",
        "outputId": "d2ba4e67-98cb-4c20-cef2-63c68f8fba83"
      },
      "execution_count": null,
      "outputs": [
        {
          "output_type": "stream",
          "name": "stdout",
          "text": [
            "Percentage of SPY wins: 39.08%\n",
            "Percentage of Civilian wins: 60.92%\n"
          ]
        }
      ]
    },
    {
      "cell_type": "markdown",
      "source": [
        "# Voting Mechanism"
      ],
      "metadata": {
        "id": "9UpvRk1o87a5"
      }
    },
    {
      "cell_type": "code",
      "source": [
        "def voting_time(round_playing_players, spies, players):\n",
        "\n",
        "    votes = []\n",
        "\n",
        "    for player in players:\n",
        "\n",
        "        vote_choices = list(round_playing_players)\n",
        "\n",
        "        # player will not vote himself suspect\n",
        "        if player in vote_choices:\n",
        "            vote_choices.remove(player)\n",
        "\n",
        "        # spy will not vote spy\n",
        "        if player in spies:\n",
        "            vote_choices = [x for x in vote_choices if x not in spies]\n",
        "\n",
        "        votes.append(random.choice(vote_choices))\n",
        "\n",
        "    # Initialize an empty dictionary to store counts\n",
        "    count_dict = {}\n",
        "\n",
        "    # Count votes using a loop\n",
        "    for vote in votes:\n",
        "        if vote in count_dict:\n",
        "            count_dict[vote] += 1\n",
        "        else:\n",
        "            count_dict[vote] = 1\n",
        "\n",
        "    max_count_vote = max(count_dict, key=count_dict.get)\n",
        "\n",
        "    return max_count_vote"
      ],
      "metadata": {
        "id": "Hy1Bqxbl1ayQ"
      },
      "execution_count": null,
      "outputs": []
    },
    {
      "cell_type": "code",
      "source": [
        "def voting_mechanism(num_of_players, num_spies, rounds):\n",
        "\n",
        "    players = [\"Player \" + str(i + 1) for i in range(num_of_players)]\n",
        "    spies = random.sample(players, num_spies)\n",
        "\n",
        "    spies_wins = 0\n",
        "    civilians_wins = 0\n",
        "    voted_out = []\n",
        "\n",
        "    for round in range(1, rounds + 1):\n",
        "        if round <= 2:\n",
        "            num_players = 3\n",
        "        else:\n",
        "            if round <= 4:\n",
        "                num_players = 4\n",
        "            else:\n",
        "                num_players = 5\n",
        "\n",
        "        if len(players) < num_players:\n",
        "            spies_wins += 1\n",
        "            break\n",
        "\n",
        "        playing_players = random.sample(players, num_players)\n",
        "\n",
        "        submitted_cards = [\n",
        "                \"Picture\" if ((player in spies) and (random.random() < 0.5)) else \"Number\"\n",
        "                for player in playing_players\n",
        "            ]\n",
        "\n",
        "        if \"Picture\" in submitted_cards:\n",
        "            spies_wins += 1\n",
        "\n",
        "            # suspect = random.choice(playing_players)\n",
        "            suspect = voting_time(playing_players, spies, players)\n",
        "\n",
        "            players.remove(suspect)\n",
        "            voted_out.append(suspect)\n",
        "        else:\n",
        "            civilians_wins += 1\n",
        "\n",
        "    return spies_wins > civilians_wins"
      ],
      "metadata": {
        "id": "k5dptD3C1cZ9"
      },
      "execution_count": null,
      "outputs": []
    },
    {
      "cell_type": "code",
      "source": [
        "spies_games_wins_3 = [voting_mechanism(num_of_players, num_spies, rounds) for _ in range(num_of_outputs)]"
      ],
      "metadata": {
        "id": "BDQW32h675Ig"
      },
      "execution_count": null,
      "outputs": []
    },
    {
      "cell_type": "code",
      "source": [
        "spy_game_wins = spies_games_wins_3.count(True)\n",
        "civil_game_wins = spies_games_wins_3.count(False)\n",
        "\n",
        "total_elements = len(spies_games_wins_3)\n",
        "\n",
        "spy_percentage_3 = (spy_game_wins / total_elements) * 100\n",
        "civil_percentage_3 = (civil_game_wins / total_elements) * 100\n",
        "\n",
        "print(f\"Percentage of SPY wins: {spy_percentage_3:.2f}%\")\n",
        "print(f\"Percentage of Civilian wins: {civil_percentage_3:.2f}%\")"
      ],
      "metadata": {
        "colab": {
          "base_uri": "https://localhost:8080/"
        },
        "id": "6IwWRa2U77Vk",
        "outputId": "0b4eeaba-4c9b-4f17-c9c7-5c78ab07534d"
      },
      "execution_count": null,
      "outputs": [
        {
          "output_type": "stream",
          "name": "stdout",
          "text": [
            "Percentage of SPY wins: 45.04%\n",
            "Percentage of Civilian wins: 54.96%\n"
          ]
        }
      ]
    },
    {
      "cell_type": "markdown",
      "source": [
        "# LETS COMPARE"
      ],
      "metadata": {
        "id": "CsHSbfc58FPc"
      }
    },
    {
      "cell_type": "code",
      "source": [
        "import matplotlib.pyplot as plt\n",
        "import numpy as np\n",
        "\n",
        "# Your data\n",
        "spy_values = [spy_percentage_1, spy_percentage_2, spy_percentage_3]\n",
        "civilian_values = [civil_percentage_1, civil_percentage_2, civil_percentage_3]\n",
        "x_axis = ['Random Vote Out',  'History Suspecting ', 'Voting Mechanism']\n",
        "\n",
        "# Bar width (adjust as needed)\n",
        "bar_width = 0.35\n",
        "\n",
        "# Plotting the bar chart\n",
        "plt.figure(figsize=(10, 6))  # Adjust the figure size if needed\n",
        "\n",
        "# Bar positions for SPY and Civilian\n",
        "bar_positions_spy = np.arange(len(x_axis))\n",
        "bar_positions_civilian = bar_positions_spy + bar_width\n",
        "\n",
        "plt.bar(bar_positions_spy, spy_values, width=bar_width, label='SPY')\n",
        "plt.bar(bar_positions_civilian, civilian_values, width=bar_width, label='Civilian')\n",
        "\n",
        "# Adding labels and title\n",
        "plt.xlabel('Methods')\n",
        "plt.ylabel('Percentage')\n",
        "plt.title('Comparison of SPY and Civilian Values')\n",
        "plt.legend()  # Display legend\n",
        "\n",
        "# Set y-axis limits to 0 and 100\n",
        "plt.ylim(0, 100)\n",
        "\n",
        "# Set x-axis ticks and labels\n",
        "plt.xticks(bar_positions_spy + bar_width / 2, x_axis)\n",
        "\n",
        "# Show the plot\n",
        "plt.grid(axis='y')  # Add horizontal grid for better readability\n",
        "plt.show()\n"
      ],
      "metadata": {
        "colab": {
          "base_uri": "https://localhost:8080/",
          "height": 564
        },
        "id": "5ufml_Yq8E3s",
        "outputId": "f0e17773-1e87-4f7a-8ee8-6a269de49474"
      },
      "execution_count": null,
      "outputs": [
        {
          "output_type": "display_data",
          "data": {
            "text/plain": [
              "<Figure size 1000x600 with 1 Axes>"
            ],
            "image/png": "[encoded data removed]"
          },
          "metadata": {}
        }
      ]
    }
  ]
}